{
 "cells": [
  {
   "cell_type": "markdown",
   "metadata": {},
   "source": [
    "Assignment_1 For satyamk15@gmail.com"
   ]
  },
  {
   "cell_type": "markdown",
   "metadata": {},
   "source": [
    "#Q1 create one variable containing following type of data\n"
   ]
  },
  {
   "cell_type": "code",
   "execution_count": 2,
   "metadata": {},
   "outputs": [
    {
     "data": {
      "text/plain": [
       "str"
      ]
     },
     "execution_count": 2,
     "metadata": {},
     "output_type": "execute_result"
    }
   ],
   "source": [
    "#1) string\n",
    "a = 'Ram'\n",
    "type(a)"
   ]
  },
  {
   "cell_type": "code",
   "execution_count": 3,
   "metadata": {},
   "outputs": [
    {
     "data": {
      "text/plain": [
       "list"
      ]
     },
     "execution_count": 3,
     "metadata": {},
     "output_type": "execute_result"
    }
   ],
   "source": [
    "#(ii) list\n",
    "b =['Ram',34,36,45.89]\n",
    "type(b)"
   ]
  },
  {
   "cell_type": "code",
   "execution_count": 4,
   "metadata": {},
   "outputs": [
    {
     "data": {
      "text/plain": [
       "float"
      ]
     },
     "execution_count": 4,
     "metadata": {},
     "output_type": "execute_result"
    }
   ],
   "source": [
    "#(iii) float\n",
    "c = 45.96\n",
    "type(c)"
   ]
  },
  {
   "cell_type": "code",
   "execution_count": 5,
   "metadata": {},
   "outputs": [
    {
     "data": {
      "text/plain": [
       "tuple"
      ]
     },
     "execution_count": 5,
     "metadata": {},
     "output_type": "execute_result"
    }
   ],
   "source": [
    "#(iv) tuple\n",
    "d = ('Ganesh',34,480)\n",
    "type(d)"
   ]
  },
  {
   "cell_type": "markdown",
   "metadata": {},
   "source": [
    "#Q2 Data type of the given variable"
   ]
  },
  {
   "cell_type": "code",
   "execution_count": 6,
   "metadata": {},
   "outputs": [
    {
     "data": {
      "text/plain": [
       "str"
      ]
     },
     "execution_count": 6,
     "metadata": {},
     "output_type": "execute_result"
    }
   ],
   "source": [
    "#(i) \n",
    "var1 = ''\n",
    "type(var1)"
   ]
  },
  {
   "cell_type": "code",
   "execution_count": 7,
   "metadata": {},
   "outputs": [
    {
     "data": {
      "text/plain": [
       "str"
      ]
     },
     "execution_count": 7,
     "metadata": {},
     "output_type": "execute_result"
    }
   ],
   "source": [
    "#(ii)\n",
    "var2 = '[DS,ML,Python]'\n",
    "type(var2)"
   ]
  },
  {
   "cell_type": "code",
   "execution_count": 8,
   "metadata": {},
   "outputs": [
    {
     "data": {
      "text/plain": [
       "list"
      ]
     },
     "execution_count": 8,
     "metadata": {},
     "output_type": "execute_result"
    }
   ],
   "source": [
    "#(iii)\n",
    "var3 = ['DS','ML','Python']\n",
    "type(var3)"
   ]
  },
  {
   "cell_type": "code",
   "execution_count": 9,
   "metadata": {},
   "outputs": [
    {
     "data": {
      "text/plain": [
       "float"
      ]
     },
     "execution_count": 9,
     "metadata": {},
     "output_type": "execute_result"
    }
   ],
   "source": [
    "#(iv)\n",
    "var4 = 1.\n",
    "type(var4)"
   ]
  },
  {
   "cell_type": "markdown",
   "metadata": {},
   "source": [
    "#Q3 Explain the use of given operators"
   ]
  },
  {
   "cell_type": "code",
   "execution_count": 10,
   "metadata": {},
   "outputs": [
    {
     "data": {
      "text/plain": [
       "2.0"
      ]
     },
     "execution_count": 10,
     "metadata": {},
     "output_type": "execute_result"
    }
   ],
   "source": [
    "#(i) / (Used for division)\n",
    "a= 10\n",
    "b = 5\n",
    "a/b"
   ]
  },
  {
   "cell_type": "code",
   "execution_count": 12,
   "metadata": {},
   "outputs": [
    {
     "data": {
      "text/plain": [
       "1"
      ]
     },
     "execution_count": 12,
     "metadata": {},
     "output_type": "execute_result"
    }
   ],
   "source": [
    "#(ii) %(gives the remainder )\n",
    "a = 11\n",
    "b =5\n",
    "a%b"
   ]
  },
  {
   "cell_type": "code",
   "execution_count": 16,
   "metadata": {},
   "outputs": [
    {
     "data": {
      "text/plain": [
       "2"
      ]
     },
     "execution_count": 16,
     "metadata": {},
     "output_type": "execute_result"
    }
   ],
   "source": [
    "#(iii) // (floor division which gives rounds to the devision result to nearset integer)\n",
    "a = 22\n",
    "b = 10\n",
    "\n",
    "a//b"
   ]
  },
  {
   "cell_type": "code",
   "execution_count": 17,
   "metadata": {},
   "outputs": [
    {
     "data": {
      "text/plain": [
       "8"
      ]
     },
     "execution_count": 17,
     "metadata": {},
     "output_type": "execute_result"
    }
   ],
   "source": [
    "#(iv) **(Exponentiation)\n",
    "a = 2\n",
    "b = 3\n",
    "a**b"
   ]
  },
  {
   "cell_type": "markdown",
   "metadata": {},
   "source": [
    "#Q4 List containing different data types and using for loop"
   ]
  },
  {
   "cell_type": "code",
   "execution_count": 73,
   "metadata": {},
   "outputs": [
    {
     "name": "stdout",
     "output_type": "stream",
     "text": [
      "Data type of Ram is <class 'str'>\n",
      "Data type of 34 is <class 'int'>\n",
      "Data type of True is <class 'bool'>\n",
      "Data type of 45.95 is <class 'float'>\n",
      "Data type of Ganesh is <class 'str'>\n",
      "Data type of (25, 96) is <class 'tuple'>\n",
      "Data type of 89.45 is <class 'float'>\n",
      "Data type of ['Shyam'] is <class 'list'>\n",
      "Data type of 45 is <class 'int'>\n",
      "Data type of Raju is <class 'str'>\n"
     ]
    }
   ],
   "source": [
    "a = [\"Ram\",34,True,45.95,'Ganesh',(25,96),89.45,['Shyam'],45,'Raju']\n",
    "for i in a :\n",
    "    print (f'Data type of {i} is {type(i)}')"
   ]
  },
  {
   "cell_type": "markdown",
   "metadata": {},
   "source": [
    "#Q5 using while loop finding a is divisible or not"
   ]
  },
  {
   "cell_type": "code",
   "execution_count": 41,
   "metadata": {},
   "outputs": [
    {
     "name": "stdout",
     "output_type": "stream",
     "text": [
      "YES , a  is Purely Divisible by b And It is 2977.0 times divisible\n"
     ]
    }
   ],
   "source": [
    "a = 8931\n",
    "b = 3\n",
    "while a%b == 0 :\n",
    "    print( f'YES , a  is Purely Divisible by b And It is {a/b} times divisible')\n",
    "    #print( 'YES, {}  is PURELY DIVISIBLE by {} AND IT IS {} times divisible '.format(a,b,a/b))\n",
    "    break\n"
   ]
  },
  {
   "cell_type": "markdown",
   "metadata": {},
   "source": [
    "Q6 using for loop to know if the element is divisibl is 3 or not"
   ]
  },
  {
   "cell_type": "code",
   "execution_count": 70,
   "metadata": {},
   "outputs": [
    {
     "name": "stdout",
     "output_type": "stream",
     "text": [
      "4 is  not divisible by 3\n",
      "5 is  not divisible by 3\n",
      "6  is divisible by 3\n",
      "7 is  not divisible by 3\n",
      "8 is  not divisible by 3\n",
      "9  is divisible by 3\n",
      "10 is  not divisible by 3\n",
      "11 is  not divisible by 3\n",
      "12  is divisible by 3\n",
      "13 is  not divisible by 3\n",
      "14 is  not divisible by 3\n",
      "15  is divisible by 3\n",
      "16 is  not divisible by 3\n",
      "17 is  not divisible by 3\n",
      "18  is divisible by 3\n",
      "19 is  not divisible by 3\n",
      "20 is  not divisible by 3\n",
      "21  is divisible by 3\n",
      "22 is  not divisible by 3\n",
      "23 is  not divisible by 3\n",
      "24  is divisible by 3\n",
      "25 is  not divisible by 3\n",
      "26 is  not divisible by 3\n",
      "27  is divisible by 3\n",
      "28 is  not divisible by 3\n"
     ]
    }
   ],
   "source": [
    "a =[]\n",
    "for i in  range(4,29):\n",
    "    a.append(i)\n",
    "    \n",
    "for i in a:\n",
    "    if i%3 == 0:\n",
    "        print(f'{i}  is divisible by 3')\n",
    "    else :\n",
    "        print(f'{i} is  not divisible by 3')\n",
    "    "
   ]
  },
  {
   "cell_type": "markdown",
   "metadata": {},
   "source": [
    "Q7 differencebetween Mutable and immutable.\n",
    "\n",
    "#mutable : Data type whose value can be changed in place after they have been created.\n",
    "\n",
    "#Immutable : Data type whose value can not be changed in place after they have been created."
   ]
  },
  {
   "cell_type": "code",
   "execution_count": 69,
   "metadata": {},
   "outputs": [],
   "source": [
    "## mutable example :\n",
    "a = [1,2,3]\n",
    "a.append(4)\n",
    "a \n",
    "#output : [1, 2, 3, 4]\n",
    "# here we have appended 4 in list 'a'.Similarly we can remove/replace/extend the list.\n",
    "#so we can say list is mutable data type.\n",
    "\n",
    "## immutable data type \n",
    "a = 'Ram'\n",
    "\n",
    "# here a is a string data type we cant change the value of a so it is immutable.\n"
   ]
  }
 ],
 "metadata": {
  "kernelspec": {
   "display_name": "Python 3",
   "language": "python",
   "name": "python3"
  },
  "language_info": {
   "codemirror_mode": {
    "name": "ipython",
    "version": 3
   },
   "file_extension": ".py",
   "mimetype": "text/x-python",
   "name": "python",
   "nbconvert_exporter": "python",
   "pygments_lexer": "ipython3",
   "version": "3.8.5"
  }
 },
 "nbformat": 4,
 "nbformat_minor": 4
}
